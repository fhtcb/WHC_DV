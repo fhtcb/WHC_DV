{
 "cells": [
  {
   "cell_type": "code",
   "execution_count": 1,
   "id": "c21b02e3-cbc3-4bed-ac47-99481c9e7317",
   "metadata": {},
   "outputs": [
    {
     "name": "stdout",
     "output_type": "stream",
     "text": [
      "[0, 0, 0, 0, 0, 0, 0, 0, 0, 0]\n",
      "[0, 0, 0, 0, 0, 0, 0, 0, 0, 0]\n",
      "[0, 0, 0, 0, 0, 0, 0, 0, 0, 0]\n",
      "[0, 0, 0, 0, 0, 0, 0, 0, 0, 0]\n",
      "[0, 0, 0, 0, 0, 0, 0, 0, 0, 0]\n",
      "[0, 0, 0, 0, 0, 0, 0, 0, 0, 0]\n",
      "[0, 0, 0, 0, 0, 0, 0, 0, 0, 0]\n",
      "[0, 0, 0, 0, 0, 0, 0, 0, 0, 0]\n",
      "[0, 0, 0, 0, 0, 0, 0, 0, 0, 0]\n",
      "[0, 0, 0, 0, 0, 0, 0, 0, 0, 0]\n"
     ]
    }
   ],
   "source": [
    "#创建相关系数矩阵\n",
    "relation = [[0] * 10] * 10\n",
    "for r in relation:\n",
    "    print(r)\n",
    "\n",
    "#但是这并不是正确的构建方法因为此方法构造的二维数组是对[]*n引用了m次，更改其中一行的值会导致每行的值都被更改导致最后的结果每行相同"
   ]
  },
  {
   "cell_type": "code",
   "execution_count": 2,
   "id": "2d155cec-c709-479c-b1de-750eb357bbfa",
   "metadata": {},
   "outputs": [
    {
     "name": "stdout",
     "output_type": "stream",
     "text": [
      "[[0 0 0 0 0 0 0 0 0 0]\n",
      " [0 0 0 0 0 0 0 0 0 0]\n",
      " [0 0 0 0 0 0 0 0 0 0]\n",
      " [0 0 0 0 0 0 0 0 0 0]\n",
      " [0 0 0 0 0 0 0 0 0 0]\n",
      " [0 0 0 0 0 0 0 0 0 0]\n",
      " [0 0 0 0 0 0 0 0 0 0]\n",
      " [0 0 0 0 0 0 0 0 0 0]\n",
      " [0 0 0 0 0 0 0 0 0 0]\n",
      " [0 0 0 0 0 0 0 0 0 0]]\n"
     ]
    }
   ],
   "source": [
    "#这是正确的构造\n",
    "import numpy as np\n",
    "mat = np.zeros((10, 10))\n",
    "relationMat = mat.astype(int)\n",
    "print(relationMat)"
   ]
  },
  {
   "cell_type": "code",
   "execution_count": 3,
   "id": "b1078141-002b-4fe4-8540-ab755b5151b6",
   "metadata": {},
   "outputs": [],
   "source": [
    "#设置打印格式\n",
    "np.set_printoptions(\n",
    "    formatter={'int': '{:5d}'.format},  # 5 字符宽度，十进制整数\n",
    "    linewidth=100  # 避免自动换行\n",
    ")"
   ]
  },
  {
   "cell_type": "code",
   "execution_count": 4,
   "id": "aeca249e-6ff0-4f00-9ad2-c21ac7695b39",
   "metadata": {},
   "outputs": [],
   "source": [
    "with open(\"./whc.csv\",\"r\",encoding=\"utf-8\") as f:\n",
    "    s = f.read()\n",
    "    #print(s)"
   ]
  },
  {
   "cell_type": "code",
   "execution_count": 5,
   "id": "3a492668-6d6f-4c94-adde-65ec88131e52",
   "metadata": {},
   "outputs": [],
   "source": [
    "rows = s.split('\\n')\n",
    "#for r in rows:\n",
    "    #print(r)"
   ]
  },
  {
   "cell_type": "code",
   "execution_count": 6,
   "id": "f16537f5-f8b8-431a-a99a-fd8117ea3894",
   "metadata": {},
   "outputs": [
    {
     "name": "stdout",
     "output_type": "stream",
     "text": [
      "1索引超出范围！\n",
      "2索引超出范围！\n",
      "3索引超出范围！\n",
      "4索引超出范围！\n",
      "5索引超出范围！\n",
      "6索引超出范围！\n",
      "7索引超出范围！\n",
      "8索引超出范围！\n",
      "9索引超出范围！\n",
      "10索引超出范围！\n"
     ]
    }
   ],
   "source": [
    "for row in rows:\n",
    "    dataArr = row.split(',')\n",
    "    #print(dataArr)\n",
    "    for i in range(1,11):\n",
    "        try:\n",
    "            if dataArr[i] == '1':\n",
    "                relationMat[i-1][i-1] += 1\n",
    "            for j in range(i+1,11):\n",
    "                if dataArr[i] == '1':\n",
    "                    if dataArr[j] == '1':\n",
    "                        relationMat[i-1][j-1] += 1\n",
    "                        relationMat[j-1][i-1] += 1\n",
    "        except IndexError:\n",
    "            print(str(i) + \"索引超出范围！\" + row)\n",
    "        "
   ]
  },
  {
   "cell_type": "code",
   "execution_count": 11,
   "id": "56c6000e-6e1d-4e9b-afbd-d129bec110ca",
   "metadata": {},
   "outputs": [
    {
     "name": "stdout",
     "output_type": "stream",
     "text": [
      "1224\n"
     ]
    }
   ],
   "source": [
    "#为什么会报错？因为string.split('\\n')会在结尾多生成一个空白行row\n",
    "\n",
    "#验证\n",
    "print(len(rows))\n",
    "#输出为1224，而实际上只有1223条有效数据\n",
    "\n",
    "#debug时寻找报错行困难，以后使用迭代器方便查找index"
   ]
  },
  {
   "cell_type": "code",
   "execution_count": 7,
   "id": "aea073c1-58cf-4fb2-9033-1666c1885cd0",
   "metadata": {},
   "outputs": [
    {
     "name": "stdout",
     "output_type": "stream",
     "text": [
      "[  261   146   133   172    17    82     9     1     4     4]\n",
      "[  146   479   204   343    55   122     4     0     2     3]\n",
      "[  133   204   513   264    84   136    18     6    16    16]\n",
      "[  172   343   264   641    84   141     8     3     6     8]\n",
      "[   17    55    84    84   172    26    12     4     4     4]\n",
      "[   82   122   136   141    26   256     9     4     5     8]\n",
      "[    9     4    18     8    12     9   151    63    71    83]\n",
      "[    1     0     6     3     4     4    63    98    34    35]\n",
      "[    4     2    16     6     4     5    71    34   137   106]\n",
      "[    4     3    16     8     4     8    83    35   106   168]\n"
     ]
    }
   ],
   "source": [
    "for r in relationMat:\n",
    "    print(r)"
   ]
  },
  {
   "cell_type": "code",
   "execution_count": 8,
   "id": "7f55e0b3-4970-4e17-99b9-711b49fb9a45",
   "metadata": {},
   "outputs": [],
   "source": [
    "with open('./whc.json','w',encoding = 'utf-8') as f:\n",
    "    f.write('{\\n'+'\\\"nodes:\\\":[\\n')\n",
    "    for i in range(0,9):\n",
    "        f.write('{\\\"id\\\": \\\"' + str(i) + '\\\", \\\"category\\\": 1, \\\"symbolSize\\\": ' + str(relationMat[i][i]) + '},\\n')\n",
    "    f.write('{\\\"id\\\": \\\"' + str(9) + '\\\", \\\"category\\\": 1, \\\"symbolSize\\\": ' + str(relationMat[9][9]) + '}\\n')\n",
    "    f.write('],\\n')\n",
    "    \n",
    "    f.write('\\\"links:\\\":[\\n')\n",
    "    for i in range(0,10):\n",
    "        for j in range (i+1,10):\n",
    "            if i == 9 and j == 9:\n",
    "                continue\n",
    "            else:\n",
    "                f.write('{\\\"source\\\": ' + str(i) + ', \\\"target\\\": ' + str(j) + ', \\\"value\\\": \\\"' + str(relationMat[i][j]) + '\\\"},\\n')\n",
    "    f.write('{\\\"source\\\": ' + str(9) + ', \\\"target\\\": ' + str(9) + ', \\\"value\\\": \\\"' + str(relationMat[9][9]) + '\\\"}\\n')\n",
    "    f.write('],\\n')\n",
    "    \n",
    "    f.write('\\\"categories:\\\":[\\n')\n",
    "    f.write(']}\\n')"
   ]
  }
 ],
 "metadata": {
  "kernelspec": {
   "display_name": "Python 3 (ipykernel)",
   "language": "python",
   "name": "python3"
  },
  "language_info": {
   "codemirror_mode": {
    "name": "ipython",
    "version": 3
   },
   "file_extension": ".py",
   "mimetype": "text/x-python",
   "name": "python",
   "nbconvert_exporter": "python",
   "pygments_lexer": "ipython3",
   "version": "3.12.3"
  }
 },
 "nbformat": 4,
 "nbformat_minor": 5
}
