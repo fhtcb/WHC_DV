{
 "cells": [
  {
   "cell_type": "code",
   "execution_count": 1,
   "id": "c21b02e3-cbc3-4bed-ac47-99481c9e7317",
   "metadata": {},
   "outputs": [
    {
     "name": "stdout",
     "output_type": "stream",
     "text": [
      "[0, 0, 0, 0, 0, 0, 0, 0, 0, 0]\n",
      "[0, 0, 0, 0, 0, 0, 0, 0, 0, 0]\n",
      "[0, 0, 0, 0, 0, 0, 0, 0, 0, 0]\n",
      "[0, 0, 0, 0, 0, 0, 0, 0, 0, 0]\n",
      "[0, 0, 0, 0, 0, 0, 0, 0, 0, 0]\n",
      "[0, 0, 0, 0, 0, 0, 0, 0, 0, 0]\n",
      "[0, 0, 0, 0, 0, 0, 0, 0, 0, 0]\n",
      "[0, 0, 0, 0, 0, 0, 0, 0, 0, 0]\n",
      "[0, 0, 0, 0, 0, 0, 0, 0, 0, 0]\n",
      "[0, 0, 0, 0, 0, 0, 0, 0, 0, 0]\n"
     ]
    }
   ],
   "source": [
    "#创建相关系数矩阵\n",
    "relation = [[0] * 10] * 10\n",
    "for r in relation:\n",
    "    print(r)\n",
    "\n",
    "#但是这并不是正确的构建方法因为此方法构造的二维数组是对[]*n引用了m次，更改其中一行的值会导致每行的值都被更改导致最后的结果每行相同"
   ]
  },
  {
   "cell_type": "code",
   "execution_count": 2,
   "id": "2d155cec-c709-479c-b1de-750eb357bbfa",
   "metadata": {},
   "outputs": [
    {
     "name": "stdout",
     "output_type": "stream",
     "text": [
      "[[0 0 0 0 0 0 0 0 0 0]\n",
      " [0 0 0 0 0 0 0 0 0 0]\n",
      " [0 0 0 0 0 0 0 0 0 0]\n",
      " [0 0 0 0 0 0 0 0 0 0]\n",
      " [0 0 0 0 0 0 0 0 0 0]\n",
      " [0 0 0 0 0 0 0 0 0 0]\n",
      " [0 0 0 0 0 0 0 0 0 0]\n",
      " [0 0 0 0 0 0 0 0 0 0]\n",
      " [0 0 0 0 0 0 0 0 0 0]\n",
      " [0 0 0 0 0 0 0 0 0 0]]\n"
     ]
    }
   ],
   "source": [
    "#这是正确的构造\n",
    "import numpy as np\n",
    "mat = np.zeros((10, 10))\n",
    "relationMat = mat.astype(int)\n",
    "print(relationMat)"
   ]
  },
  {
   "cell_type": "code",
   "execution_count": 3,
   "id": "b1078141-002b-4fe4-8540-ab755b5151b6",
   "metadata": {},
   "outputs": [],
   "source": [
    "#设置打印格式\n",
    "np.set_printoptions(\n",
    "    formatter={'int': '{:5d}'.format},  # 5 字符宽度，十进制整数\n",
    "    linewidth=100  # 避免自动换行\n",
    ")"
   ]
  },
  {
   "cell_type": "code",
   "execution_count": 4,
   "id": "aeca249e-6ff0-4f00-9ad2-c21ac7695b39",
   "metadata": {},
   "outputs": [],
   "source": [
    "with open(\"./whc.csv\",\"r\",encoding=\"utf-8\") as f:\n",
    "    s = f.read()\n",
    "    #print(s)"
   ]
  },
  {
   "cell_type": "code",
   "execution_count": 5,
   "id": "3a492668-6d6f-4c94-adde-65ec88131e52",
   "metadata": {},
   "outputs": [],
   "source": [
    "rows = s.split('\\n')\n",
    "#for r in rows:\n",
    "    #print(r)"
   ]
  },
  {
   "cell_type": "code",
   "execution_count": null,
   "id": "f16537f5-f8b8-431a-a99a-fd8117ea3894",
   "metadata": {},
   "outputs": [
    {
     "name": "stdout",
     "output_type": "stream",
     "text": [
      "1索引超出范围！\n",
      "2索引超出范围！\n",
      "3索引超出范围！\n",
      "4索引超出范围！\n",
      "5索引超出范围！\n",
      "6索引超出范围！\n",
      "7索引超出范围！\n",
      "8索引超出范围！\n",
      "9索引超出范围！\n",
      "10索引超出范围！\n"
     ]
    }
   ],
   "source": [
    "for row in rows:\n",
    "    dataArr = row.split(',')\n",
    "    #print(dataArr)\n",
    "    for i in range(1,11):\n",
    "        try:\n",
    "            if dataArr[i] == '1':\n",
    "                relationMat[i-1][i-1] += 1\n",
    "            for j in range(i+1,11):\n",
    "                if dataArr[i] == '1':\n",
    "                    if dataArr[j] == '1':\n",
    "                        relationMat[i-1][j-1] += 1\n",
    "                        relationMat[j-1][i-1] += 1\n",
    "        except IndexError:\n",
    "            print(str(i) + \"索引超出范围！\" + row)\n",
    "        "
   ]
  },
  {
   "cell_type": "code",
   "execution_count": 7,
   "id": "56c6000e-6e1d-4e9b-afbd-d129bec110ca",
   "metadata": {},
   "outputs": [
    {
     "name": "stdout",
     "output_type": "stream",
     "text": [
      "1224\n"
     ]
    }
   ],
   "source": [
    "#为什么会报错？因为string.split('\\n')会在结尾多生成一个空白行row\n",
    "\n",
    "#验证\n",
    "print(len(rows))\n",
    "#输出为1224，而实际上只有1223条有效数据\n",
    "\n",
    "#debug时寻找报错行困难，以后使用迭代器方便查找index"
   ]
  },
  {
   "cell_type": "code",
   "execution_count": 8,
   "id": "aea073c1-58cf-4fb2-9033-1666c1885cd0",
   "metadata": {
    "scrolled": true
   },
   "outputs": [
    {
     "name": "stdout",
     "output_type": "stream",
     "text": [
      "[  261   146   133   172    17    82     9     1     4     4]\n",
      "[  146   479   204   343    55   122     4     0     2     3]\n",
      "[  133   204   513   264    84   136    18     6    16    16]\n",
      "[  172   343   264   641    84   141     8     3     6     8]\n",
      "[   17    55    84    84   172    26    12     4     4     4]\n",
      "[   82   122   136   141    26   256     9     4     5     8]\n",
      "[    9     4    18     8    12     9   151    63    71    83]\n",
      "[    1     0     6     3     4     4    63    98    34    35]\n",
      "[    4     2    16     6     4     5    71    34   137   106]\n",
      "[    4     3    16     8     4     8    83    35   106   168]\n"
     ]
    }
   ],
   "source": [
    "for r in relationMat:\n",
    "    print(r)"
   ]
  },
  {
   "cell_type": "code",
   "execution_count": 9,
   "id": "7f55e0b3-4970-4e17-99b9-711b49fb9a45",
   "metadata": {},
   "outputs": [],
   "source": [
    "#relationMat[i][j] + 1\n",
    "#relationMat[i][i] / 5\n",
    "index = ['C1','C2','C3','C4','C5','C6','N7','N8','N9','N10']\n",
    "with open('./whc.json','w',encoding = 'utf-8') as f:\n",
    "    f.write('{\\n'+'\\\"nodes\\\":[\\n')\n",
    "    for i in range(0,9):\n",
    "        f.write('{\\\"id\\\": \\\"' + index[i] + '\\\", \\\"category\\\": ' + str(i) + ', \\\"symbolSize\\\": ' + str(relationMat[i][i]/50) + ',\\\"name\\\": \\\"' + index[i] + '\\\"},\\n')\n",
    "    f.write('{\\\"id\\\": \\\"' + index[9] + '\\\", \\\"category\\\": 9, \\\"symbolSize\\\": ' + str(relationMat[9][9]/50) + ',\\\"name\\\": \\\"' + index[9] + '\\\"}\\n')\n",
    "    f.write('],\\n')\n",
    "    \n",
    "    f.write('\\\"links\\\":[\\n')\n",
    "    for i in range(0,10):\n",
    "        for j in range (i+1,10):\n",
    "            if i == 8 and j == 9:\n",
    "                continue\n",
    "            else:\n",
    "                f.write('{\\\"source\\\": \\\"' + index[i] + '\\\", \\\"target\\\": \\\"' + index[j] + '\\\", \\\"value\\\": ' + str(relationMat[i][j] + 1) + ',\\\"lineStyle\\\": { \\\"width\\\": ' + str(relationMat[i][j]/100+1) + '}},\\n')\n",
    "    f.write('{\\\"source\\\": \\\"' + index[8] + '\\\", \\\"target\\\": \\\"' + index[9] + '\\\", \\\"value\\\": ' + str(relationMat[8][9] + 1) + ',\\\"lineStyle\\\": { \\\"width\\\": ' + str(relationMat[8][9]/100+1) + '}}\\n')\n",
    "    f.write('],\\n')\n",
    "    \n",
    "    f.write('\\\"categories\\\":[\\n')\n",
    "    for i in index[:9]:\n",
    "        f.write('{\\\"name\\\": \\\"' + i + '\\\"},\\n')   \n",
    "    f.write('{\\\"name\\\": \\\"N10\\\"}\\n')\n",
    "    f.write(']}\\n')"
   ]
  },
  {
   "cell_type": "code",
   "execution_count": 10,
   "id": "5a164edd-aef7-46d9-8bef-6d6f861b07f6",
   "metadata": {},
   "outputs": [
    {
     "name": "stdout",
     "output_type": "stream",
     "text": [
      "{\n",
      "\"nodes\":[\n",
      "{\"id\": \"C1\", \"category\": 0, \"symbolSize\": 5.22,\"name\": \"C1\"},\n",
      "{\"id\": \"C2\", \"category\": 1, \"symbolSize\": 9.58,\"name\": \"C2\"},\n",
      "{\"id\": \"C3\", \"category\": 2, \"symbolSize\": 10.26,\"name\": \"C3\"},\n",
      "{\"id\": \"C4\", \"category\": 3, \"symbolSize\": 12.82,\"name\": \"C4\"},\n",
      "{\"id\": \"C5\", \"category\": 4, \"symbolSize\": 3.44,\"name\": \"C5\"},\n",
      "{\"id\": \"C6\", \"category\": 5, \"symbolSize\": 5.12,\"name\": \"C6\"},\n",
      "{\"id\": \"N7\", \"category\": 6, \"symbolSize\": 3.02,\"name\": \"N7\"},\n",
      "{\"id\": \"N8\", \"category\": 7, \"symbolSize\": 1.96,\"name\": \"N8\"},\n",
      "{\"id\": \"N9\", \"category\": 8, \"symbolSize\": 2.74,\"name\": \"N9\"},\n",
      "{\"id\": \"N10\", \"category\": 9, \"symbolSize\": 3.36,\"name\": \"N10\"}\n",
      "],\n",
      "\"links\":[\n",
      "{\"source\": \"C1\", \"target\": \"C2\", \"value\": 147,\"lineStyle\": { \"width\": 2.46}},\n",
      "{\"source\": \"C1\", \"target\": \"C3\", \"value\": 134,\"lineStyle\": { \"width\": 2.33}},\n",
      "{\"source\": \"C1\", \"target\": \"C4\", \"value\": 173,\"lineStyle\": { \"width\": 2.7199999999999998}},\n",
      "{\"source\": \"C1\", \"target\": \"C5\", \"value\": 18,\"lineStyle\": { \"width\": 1.17}},\n",
      "{\"source\": \"C1\", \"target\": \"C6\", \"value\": 83,\"lineStyle\": { \"width\": 1.8199999999999998}},\n",
      "{\"source\": \"C1\", \"target\": \"N7\", \"value\": 10,\"lineStyle\": { \"width\": 1.09}},\n",
      "{\"source\": \"C1\", \"target\": \"N8\", \"value\": 2,\"lineStyle\": { \"width\": 1.01}},\n",
      "{\"source\": \"C1\", \"target\": \"N9\", \"value\": 5,\"lineStyle\": { \"width\": 1.04}},\n",
      "{\"source\": \"C1\", \"target\": \"N10\", \"value\": 5,\"lineStyle\": { \"width\": 1.04}},\n",
      "{\"source\": \"C2\", \"target\": \"C3\", \"value\": 205,\"lineStyle\": { \"width\": 3.04}},\n",
      "{\"source\": \"C2\", \"target\": \"C4\", \"value\": 344,\"lineStyle\": { \"width\": 4.43}},\n",
      "{\"source\": \"C2\", \"target\": \"C5\", \"value\": 56,\"lineStyle\": { \"width\": 1.55}},\n",
      "{\"source\": \"C2\", \"target\": \"C6\", \"value\": 123,\"lineStyle\": { \"width\": 2.2199999999999998}},\n",
      "{\"source\": \"C2\", \"target\": \"N7\", \"value\": 5,\"lineStyle\": { \"width\": 1.04}},\n",
      "{\"source\": \"C2\", \"target\": \"N8\", \"value\": 1,\"lineStyle\": { \"width\": 1.0}},\n",
      "{\"source\": \"C2\", \"target\": \"N9\", \"value\": 3,\"lineStyle\": { \"width\": 1.02}},\n",
      "{\"source\": \"C2\", \"target\": \"N10\", \"value\": 4,\"lineStyle\": { \"width\": 1.03}},\n",
      "{\"source\": \"C3\", \"target\": \"C4\", \"value\": 265,\"lineStyle\": { \"width\": 3.64}},\n",
      "{\"source\": \"C3\", \"target\": \"C5\", \"value\": 85,\"lineStyle\": { \"width\": 1.8399999999999999}},\n",
      "{\"source\": \"C3\", \"target\": \"C6\", \"value\": 137,\"lineStyle\": { \"width\": 2.3600000000000003}},\n",
      "{\"source\": \"C3\", \"target\": \"N7\", \"value\": 19,\"lineStyle\": { \"width\": 1.18}},\n",
      "{\"source\": \"C3\", \"target\": \"N8\", \"value\": 7,\"lineStyle\": { \"width\": 1.06}},\n",
      "{\"source\": \"C3\", \"target\": \"N9\", \"value\": 17,\"lineStyle\": { \"width\": 1.16}},\n",
      "{\"source\": \"C3\", \"target\": \"N10\", \"value\": 17,\"lineStyle\": { \"width\": 1.16}},\n",
      "{\"source\": \"C4\", \"target\": \"C5\", \"value\": 85,\"lineStyle\": { \"width\": 1.8399999999999999}},\n",
      "{\"source\": \"C4\", \"target\": \"C6\", \"value\": 142,\"lineStyle\": { \"width\": 2.41}},\n",
      "{\"source\": \"C4\", \"target\": \"N7\", \"value\": 9,\"lineStyle\": { \"width\": 1.08}},\n",
      "{\"source\": \"C4\", \"target\": \"N8\", \"value\": 4,\"lineStyle\": { \"width\": 1.03}},\n",
      "{\"source\": \"C4\", \"target\": \"N9\", \"value\": 7,\"lineStyle\": { \"width\": 1.06}},\n",
      "{\"source\": \"C4\", \"target\": \"N10\", \"value\": 9,\"lineStyle\": { \"width\": 1.08}},\n",
      "{\"source\": \"C5\", \"target\": \"C6\", \"value\": 27,\"lineStyle\": { \"width\": 1.26}},\n",
      "{\"source\": \"C5\", \"target\": \"N7\", \"value\": 13,\"lineStyle\": { \"width\": 1.12}},\n",
      "{\"source\": \"C5\", \"target\": \"N8\", \"value\": 5,\"lineStyle\": { \"width\": 1.04}},\n",
      "{\"source\": \"C5\", \"target\": \"N9\", \"value\": 5,\"lineStyle\": { \"width\": 1.04}},\n",
      "{\"source\": \"C5\", \"target\": \"N10\", \"value\": 5,\"lineStyle\": { \"width\": 1.04}},\n",
      "{\"source\": \"C6\", \"target\": \"N7\", \"value\": 10,\"lineStyle\": { \"width\": 1.09}},\n",
      "{\"source\": \"C6\", \"target\": \"N8\", \"value\": 5,\"lineStyle\": { \"width\": 1.04}},\n",
      "{\"source\": \"C6\", \"target\": \"N9\", \"value\": 6,\"lineStyle\": { \"width\": 1.05}},\n",
      "{\"source\": \"C6\", \"target\": \"N10\", \"value\": 9,\"lineStyle\": { \"width\": 1.08}},\n",
      "{\"source\": \"N7\", \"target\": \"N8\", \"value\": 64,\"lineStyle\": { \"width\": 1.63}},\n",
      "{\"source\": \"N7\", \"target\": \"N9\", \"value\": 72,\"lineStyle\": { \"width\": 1.71}},\n",
      "{\"source\": \"N7\", \"target\": \"N10\", \"value\": 84,\"lineStyle\": { \"width\": 1.83}},\n",
      "{\"source\": \"N8\", \"target\": \"N9\", \"value\": 35,\"lineStyle\": { \"width\": 1.34}},\n",
      "{\"source\": \"N8\", \"target\": \"N10\", \"value\": 36,\"lineStyle\": { \"width\": 1.35}},\n",
      "{\"source\": \"N9\", \"target\": \"N10\", \"value\": 107,\"lineStyle\": { \"width\": 2.06}}\n",
      "],\n",
      "\"categories\":[\n",
      "{\"name\": \"C1\"},\n",
      "{\"name\": \"C2\"},\n",
      "{\"name\": \"C3\"},\n",
      "{\"name\": \"C4\"},\n",
      "{\"name\": \"C5\"},\n",
      "{\"name\": \"C6\"},\n",
      "{\"name\": \"N7\"},\n",
      "{\"name\": \"N8\"},\n",
      "{\"name\": \"N9\"},\n",
      "{\"name\": \"N10\"}\n",
      "]}\n",
      "\n"
     ]
    }
   ],
   "source": [
    "with open('./whc.json','r',encoding = 'utf-8') as f:\n",
    "    print(f.read())"
   ]
  }
 ],
 "metadata": {
  "kernelspec": {
   "display_name": "Python 3 (ipykernel)",
   "language": "python",
   "name": "python3"
  },
  "language_info": {
   "codemirror_mode": {
    "name": "ipython",
    "version": 3
   },
   "file_extension": ".py",
   "mimetype": "text/x-python",
   "name": "python",
   "nbconvert_exporter": "python",
   "pygments_lexer": "ipython3",
   "version": "3.12.3"
  }
 },
 "nbformat": 4,
 "nbformat_minor": 5
}
